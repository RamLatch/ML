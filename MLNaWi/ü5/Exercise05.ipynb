{
 "cells": [
  {
<<<<<<< HEAD
   "attachments": {},
=======
>>>>>>> 7c8123bb449b41490f3e1f629c47c39f2b88d489
   "cell_type": "markdown",
   "metadata": {
    "deletable": false,
    "editable": false,
    "nbgrader": {
     "cell_type": "markdown",
     "checksum": "585185d76dd3c97d62aa6bee8e04aacd",
     "grade": false,
     "grade_id": "cell-06aa629a0207eeaf",
     "locked": true,
     "schema_version": 3,
     "solution": false,
     "task": false
    }
   },
   "source": [
    "# Exercise Sheet No. 5\n",
    "\n",
    "---\n",
    "\n",
    "> Machine Learning for Natural Sciences, Summer 2023, Jun.-Prof. Pascal Friederich, pascal.friederich@kit.edu\n",
    "> \n",
    "> Deadline: May 22nd 2023, 8:00 am\n",
    ">\n",
    "> Container version 1.0.0\n",
    ">\n",
    "> Tutor: chen.zhou@kit.edu\n",
    ">\n",
    "> **Please ask questions in the forum/discussion board and only contact the Tutor when there are issues with the grading**\n",
    "---\n",
    "\n",
    "**Topic**: This exercise sheet will focus on Bayesian statistics, k-nearest neighbors and monte-carlo simulation."
   ]
  },
  {
<<<<<<< HEAD
   "attachments": {},
=======
>>>>>>> 7c8123bb449b41490f3e1f629c47c39f2b88d489
   "cell_type": "markdown",
   "metadata": {},
   "source": [
    "Please add here your group members' names and student IDs. \n",
    "\n",
<<<<<<< HEAD
    "Names: Robin Maurer, Francisca Azocar Dannemann, Marcus Fledler\n",
    "\n",
    "IDs: 2462304, 2480646, 2494460\n"
   ]
  },
  {
   "attachments": {},
=======
    "Names: \n",
    "\n",
    "IDs:"
   ]
  },
  {
>>>>>>> 7c8123bb449b41490f3e1f629c47c39f2b88d489
   "cell_type": "markdown",
   "metadata": {
    "deletable": false,
    "editable": false,
    "nbgrader": {
     "cell_type": "markdown",
     "checksum": "d2309b76e418af1fe1892da6844d606f",
     "grade": false,
     "grade_id": "cell-b4b7e8190a5548e9",
     "locked": true,
     "schema_version": 3,
     "solution": false,
     "task": false
    }
   },
   "source": [
    "# 5 Bayes' theorem\n",
    "\n",
    "Here are Bayes rule and some important formulas of lecture 2.\n",
    "\n",
    "$$\\boxed{p(y|x) = \\frac{p(x|y) p(y)}{p(x)} }$$\n",
    "\n",
    "where $p(y|x)$ is the posterior, $p(x|y)$ the likelihood, $p(x)$ the evidence and $p(y)$ the prior. Here, $p(x\\mid y)$ is a conditional probability, which gives the probability of event $x$ occurring given that $y$ is true. Marginalization over a variable e.g. $y$ (\"eliminate variable $y$\") is defined by:\n",
    "\n",
    "$$p(x) = \\sum\\limits_k p(x|y{=}k) \\; p(y{=}k)$$\n",
    "\n",
    "Where k is each possible realization of y."
   ]
  },
  {
<<<<<<< HEAD
   "attachments": {},
=======
>>>>>>> 7c8123bb449b41490f3e1f629c47c39f2b88d489
   "cell_type": "markdown",
   "metadata": {
    "deletable": false,
    "editable": false,
    "nbgrader": {
     "cell_type": "markdown",
     "checksum": "b2ed0ea865a507e4d68372f0d71b6bf3",
     "grade": false,
     "grade_id": "cell-214c0a7873e0ea53",
     "locked": true,
     "schema_version": 3,
     "solution": false,
     "task": false
    }
   },
   "source": [
    "Note: You do not have to give a full proof as markdown. Assigning the value to e.g. `p_of_x` is enough."
   ]
  },
  {
<<<<<<< HEAD
   "attachments": {},
=======
>>>>>>> 7c8123bb449b41490f3e1f629c47c39f2b88d489
   "cell_type": "markdown",
   "metadata": {
    "deletable": false,
    "editable": false,
    "nbgrader": {
     "cell_type": "markdown",
     "checksum": "cb31951a04df0691451ebfec6469baf5",
     "grade": false,
     "grade_id": "cell-0cf184edcccebbe4",
     "locked": true,
     "schema_version": 3,
     "solution": false,
     "task": false
    }
   },
   "source": [
    "Let us consider the following toy problem for the Naive Bayes classifier. The feature variable $X \\in [0, 1]$ is real-valued and 1-dimensional, and the response of the system $Y \\in \\{0, 1\\}$ is discrete with two classes $0$ and $1$. For the system only the prior probabilities and likelihoods (as density functions f) are known. They are given by\n",
    "\n",
    "$$p(y = 0) = p(y = 1) = \\frac{1}{2}$$\n",
    "\n",
    "$$p(x\\,|\\,y = 0) =  2 - 2x$$\n",
    "\n",
    "$$p(x\\,|\\,y = 1) = 2x$$\n",
    "\n",
    "Now, calculate the probability density of $x$, i.e., $p(x)$ by marginalization over $y$. \n",
    "\n",
    "Hint: Marginalization with discrete variables is defined by $p(x) = \\sum_y p(x|y) p(y)$"
   ]
  },
  {
   "cell_type": "code",
<<<<<<< HEAD
   "execution_count": null,
=======
   "execution_count": 2,
>>>>>>> 7c8123bb449b41490f3e1f629c47c39f2b88d489
   "metadata": {
    "deletable": false,
    "nbgrader": {
     "cell_type": "code",
     "checksum": "8c35bb9449a94e2188f5570eb33fecc5",
     "grade": false,
     "grade_id": "p_of_x",
     "locked": false,
     "schema_version": 3,
     "solution": true,
     "task": false
    }
   },
   "outputs": [],
   "source": [
    "# Task 1: probability of x (1 point in total)\n",
<<<<<<< HEAD
    "p_of_x = None # please assign a numeric value to p_of_x\n",
    "# YOUR CODE HERE\n",
    "raise NotImplementedError()"
=======
    "p_of_x = 1 # please assign a numeric value to p_of_x\n",
    "# YOUR CODE HERE\n",
    "#raise NotImplementedError()"
>>>>>>> 7c8123bb449b41490f3e1f629c47c39f2b88d489
   ]
  },
  {
   "cell_type": "code",
<<<<<<< HEAD
   "execution_count": null,
=======
   "execution_count": 3,
>>>>>>> 7c8123bb449b41490f3e1f629c47c39f2b88d489
   "metadata": {
    "deletable": false,
    "editable": false,
    "nbgrader": {
     "cell_type": "code",
     "checksum": "b131d50c6d1b106432caf8149ab51e52",
     "grade": true,
     "grade_id": "p_of_x_test",
     "locked": true,
     "points": 1,
     "schema_version": 3,
     "solution": false,
     "task": false
    }
   },
   "outputs": [],
   "source": [
    "# Hidden test below (1 Point)\n",
    "# The derivation is not graded, only the answer yields 1 Point\n",
    "assert p_of_x or p_of_x == 0, 'Please assign a value to p_of_x!'\n",
    "# Additional test for p(x)"
   ]
  },
  {
<<<<<<< HEAD
   "attachments": {},
=======
>>>>>>> 7c8123bb449b41490f3e1f629c47c39f2b88d489
   "cell_type": "markdown",
   "metadata": {
    "deletable": false,
    "editable": false,
    "nbgrader": {
     "cell_type": "markdown",
     "checksum": "09ed426a6f97a631e6c53490d23677f2",
     "grade": false,
     "grade_id": "cell-82b26320e2bff41b",
     "locked": true,
     "schema_version": 3,
     "solution": false,
     "task": false
    }
   },
   "source": [
    "Calculate the true posteriors $p^*(y|x)$ by using Bayes rule. Since $y$ is a discrete variable it is again enough to calculate the classes $\\{0,1\\}$ separatly \n",
    "\n",
    "$$p^*(y=0\\,|\\,x) = \\frac{p(x\\,|\\,y = 0)\\,p(y = 0)}{p(x)}$$\n",
    "$$p^*(y=1\\,|\\,x) = \\frac{p(x\\,|\\,y = 1)\\,p(y = 1)}{p(x)}$$\n",
    "\n",
    "The Naive Bayesian classifier would then be: \"pick the highest probability class for given $x$\". \n",
    "\n",
    "$$\\hat{f}(x) = \\underset{k}{\\text{argmax}} \\; p^*(y=k|x)$$"
   ]
  },
  {
   "cell_type": "code",
<<<<<<< HEAD
   "execution_count": null,
=======
   "execution_count": 4,
>>>>>>> 7c8123bb449b41490f3e1f629c47c39f2b88d489
   "metadata": {
    "deletable": false,
    "nbgrader": {
     "cell_type": "code",
     "checksum": "e4de53588fd0f698666efba65512830b",
     "grade": false,
     "grade_id": "p_y_x",
     "locked": false,
     "schema_version": 3,
     "solution": true,
     "task": false
    }
   },
   "outputs": [],
   "source": [
    "# Task 2: Calculate posterior (2 points in total)\n",
    "\n",
    "import matplotlib.pyplot as plt\n",
    "import numpy as np\n",
    "# Give your solution as a function and plot it\n",
    "def prob_y_x(y,x): # p*(y|x)\n",
    "    \"\"\"Calculate p(y) given x.\n",
    "    Args:\n",
    "        y (int): y value either 0 or 1.\n",
    "        x (np.array): Array of x-values of shape (N,)\n",
    "    Returns:\n",
    "        prob (np.array): Probability p(y|x) with shape (N,)\n",
    "    \"\"\"\n",
    "    prob = None # please update this in your solution\n",
    "    # YOUR CODE HERE\n",
<<<<<<< HEAD
    "    raise NotImplementedError()\n",
=======
    "    prob = 1 - x if y == 0 else x\n",
    "    #raise NotImplementedError()\n",
>>>>>>> 7c8123bb449b41490f3e1f629c47c39f2b88d489
    "    return prob"
   ]
  },
  {
   "cell_type": "code",
<<<<<<< HEAD
   "execution_count": null,
   "metadata": {},
   "outputs": [],
=======
   "execution_count": 5,
   "metadata": {},
   "outputs": [
    {
     "data": {
      "image/png": "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",
      "text/plain": [
       "<Figure size 640x480 with 1 Axes>"
      ]
     },
     "metadata": {},
     "output_type": "display_data"
    }
   ],
>>>>>>> 7c8123bb449b41490f3e1f629c47c39f2b88d489
   "source": [
    "# plot the probability p(y|x) (ordinate) against x (abscissa) for y=0 and y=1\n",
    "plt.figure()\n",
    "sampling = np.linspace(0,1,100)\n",
    "plt.plot(sampling, prob_y_x(0,sampling),label=\"y=0\")\n",
    "plt.plot(sampling, prob_y_x(1,sampling),label=\"y=1\")\n",
    "plt.legend()\n",
    "plt.xlabel(\"x\")\n",
    "plt.ylabel('p(y|x)')\n",
    "plt.show()"
   ]
  },
  {
   "cell_type": "code",
<<<<<<< HEAD
   "execution_count": null,
=======
   "execution_count": 6,
>>>>>>> 7c8123bb449b41490f3e1f629c47c39f2b88d489
   "metadata": {
    "deletable": false,
    "editable": false,
    "nbgrader": {
     "cell_type": "code",
     "checksum": "a226370b45e88cc37b84fa69e40eaa20",
     "grade": true,
     "grade_id": "p_y_x_test-1",
     "locked": true,
     "points": 1,
     "schema_version": 3,
     "solution": false,
     "task": false
    }
   },
   "outputs": [],
   "source": [
    "# (1 Point)\n",
    "assert np.abs(prob_y_x(0,0.0) - 1.0 ) < 0.001"
   ]
  },
  {
   "cell_type": "code",
<<<<<<< HEAD
   "execution_count": null,
=======
   "execution_count": 7,
>>>>>>> 7c8123bb449b41490f3e1f629c47c39f2b88d489
   "metadata": {
    "deletable": false,
    "editable": false,
    "nbgrader": {
     "cell_type": "code",
     "checksum": "959af8388d4b1893f2c496379828eeb9",
     "grade": true,
     "grade_id": "p_y_x_test-2",
     "locked": true,
     "points": 1,
     "schema_version": 3,
     "solution": false,
     "task": false
    }
   },
   "outputs": [],
   "source": [
    "# Hidden tests below (1 point)\n",
    "# Additional test for p (y|x) with y=0 or y=1"
   ]
  },
  {
<<<<<<< HEAD
   "attachments": {},
=======
>>>>>>> 7c8123bb449b41490f3e1f629c47c39f2b88d489
   "cell_type": "markdown",
   "metadata": {
    "deletable": false,
    "editable": false,
    "nbgrader": {
     "cell_type": "markdown",
     "checksum": "3eb944001de2b6d1a706a71fa5a861f2",
     "grade": false,
     "grade_id": "cell-ec69f2b1fdb00722",
     "locked": true,
     "schema_version": 3,
     "solution": false,
     "task": false
    }
   },
   "source": [
    "### 5.1 Bayes error rate\n",
    "\n",
    "The Bayes error rate can be described by the probability of failure of the Bayes classifer $\\mathbb{E}_{x\\sim p(x)}[ p(\\hat{y} {\\ne} y^* |x)]$, where $\\mathbb{E}$ denotes the expectation value, defined by $\\mathbb{E}_{x\\sim p(x)}[f(x)] = f(x) \\; p(x) \\; dx$. The probability of error can also be defined by $p(\\text{error}) = 1- p(\\text{success}) = 1 - \\mathbb{E}_{x\\sim p(x)}[p(\\hat{y}_i=y_i^*|x)]$, which gives:\n",
    "\n",
    "$$\\mathbb{E}_{x\\sim p(x)}[p(\\hat{y} {\\ne} y^* |x)] = 1 - \\int (\\underset{k}{\\text{max}}\\; p(y{=}k|x)) \\;  p(x) \\, dx$$\n",
    "\n",
    "Determine the error rate for the toy problem, i.e. the best achievable error for Bayes classifer, using the above formular. In this case this is equal to a threshold classifier that picks either $y \\in \\{0,1\\}$ depending whether $x$ is smaller or bigger than a threshold $x_t = 1/2$. \n",
    "\n",
    "\\begin{equation}\n",
    "\\text{threshold classifier:} \\;\\;\\; \\hat{y} = \\begin{cases}\n",
    "0, & \\text{if}\\; x<x_t\\\\\n",
    "1, & \\text{if}\\; x \\geq x_t\n",
    "\\end{cases}\n",
    "\\end{equation}\n",
    "\n",
    "Bonus: If you want you can prove that $x_t = 1/2$ is the best choice of a threshold (not graded)."
   ]
  },
  {
   "cell_type": "code",
<<<<<<< HEAD
   "execution_count": null,
=======
   "execution_count": 8,
>>>>>>> 7c8123bb449b41490f3e1f629c47c39f2b88d489
   "metadata": {
    "deletable": false,
    "nbgrader": {
     "cell_type": "code",
     "checksum": "a2ec0faf94213456dcc95e68921ada4c",
     "grade": false,
     "grade_id": "error_bayes",
     "locked": false,
     "schema_version": 3,
     "solution": true,
     "task": false
    }
   },
   "outputs": [],
   "source": [
    "# Task 3: Bayes error rate (1 point in total)\n",
    "\n",
<<<<<<< HEAD
    "error_bayes = None # error rate not in % but [0,1]\n",
    "# YOUR CODE HERE\n",
    "raise NotImplementedError()"
=======
    "error_bayes = 1/4 # error rate not in % but [0,1]\n",
    "# YOUR CODE HERE\n",
    "#raise NotImplementedError()"
>>>>>>> 7c8123bb449b41490f3e1f629c47c39f2b88d489
   ]
  },
  {
   "cell_type": "code",
<<<<<<< HEAD
   "execution_count": null,
=======
   "execution_count": 9,
>>>>>>> 7c8123bb449b41490f3e1f629c47c39f2b88d489
   "metadata": {
    "deletable": false,
    "editable": false,
    "nbgrader": {
     "cell_type": "code",
     "checksum": "d0c262c77bb614d67d63944a007f0878",
     "grade": true,
     "grade_id": "error_bayes_test",
     "locked": true,
     "points": 1,
     "schema_version": 3,
     "solution": false,
     "task": false
    }
   },
   "outputs": [],
   "source": [
    "# Hidden tests below (1 Point)\n",
    "# The derivation is not graded, only the answer yields 2 Points\n",
    "assert isinstance(error_bayes, float) "
   ]
  },
  {
<<<<<<< HEAD
   "attachments": {},
=======
>>>>>>> 7c8123bb449b41490f3e1f629c47c39f2b88d489
   "cell_type": "markdown",
   "metadata": {
    "deletable": false,
    "editable": false,
    "nbgrader": {
     "cell_type": "markdown",
     "checksum": "e087f139e8cfdda16d89869c4f4551af",
     "grade": false,
     "grade_id": "cell-8346849135e441e4",
     "locked": true,
     "schema_version": 3,
     "solution": false,
     "task": false
    }
   },
   "source": [
    "### 5.2 Nearest Neighbour error rate\n",
    "\n",
    "The nearest-neighbor classiffier's asymptotic local error ($N \\to \\infty$) is given by the Gini impurity for 1-NN and based on Bayes classification (without proof):\n",
    "\n",
    "$$ p_\\infty(\\text{error}|x) = 1-\\sum_k p(y=k|x)^2$$\n",
    "\n",
    "And for the asymptotic overall error\n",
    "\n",
    "$$ P_\\infty(\\text{error}) = \\int p_{\\infty}(\\text{error}\\,|\\,x)\\,p(x)\\,dx =\\int \\left(1-\\sum_k p(y=k|x)^2 \\right) \\,p(x)\\,dx$$\n",
    "\n",
    "Determine the error rate for the toy problem, i.e. the best achievable error for Nearest Neighbour classifer, using the above formular."
   ]
  },
  {
   "cell_type": "code",
<<<<<<< HEAD
   "execution_count": null,
=======
   "execution_count": 11,
>>>>>>> 7c8123bb449b41490f3e1f629c47c39f2b88d489
   "metadata": {
    "deletable": false,
    "nbgrader": {
     "cell_type": "code",
     "checksum": "4210c52c2fb3f7721384b295762455eb",
     "grade": false,
     "grade_id": "error_NN",
     "locked": false,
     "schema_version": 3,
     "solution": true,
     "task": false
    }
   },
   "outputs": [],
   "source": [
    "# Task 4: Nearest Neighbour error rate (1 point in total)\n",
    "\n",
<<<<<<< HEAD
    "error_NN = None  # error rate not in % but [0,1]\n",
    "# YOUR CODE HERE\n",
    "raise NotImplementedError()"
=======
    "error_NN = 1/3  # error rate not in % but [0,1]\n",
    "# YOUR CODE HERE\n",
    "#raise NotImplementedError()"
>>>>>>> 7c8123bb449b41490f3e1f629c47c39f2b88d489
   ]
  },
  {
   "cell_type": "code",
<<<<<<< HEAD
   "execution_count": null,
=======
   "execution_count": 12,
>>>>>>> 7c8123bb449b41490f3e1f629c47c39f2b88d489
   "metadata": {
    "deletable": false,
    "editable": false,
    "nbgrader": {
     "cell_type": "code",
     "checksum": "a7fd14ca432bd5b5def58facd67a0e36",
     "grade": true,
     "grade_id": "error_NN_test",
     "locked": true,
     "points": 1,
     "schema_version": 3,
     "solution": false,
     "task": false
    }
   },
   "outputs": [],
   "source": [
    "# Hidden test below (1 Point)\n",
    "# The derivation is not graded, only the answer yields 1 Point\n",
    "assert isinstance(error_NN, float)"
   ]
  },
  {
<<<<<<< HEAD
   "attachments": {},
=======
>>>>>>> 7c8123bb449b41490f3e1f629c47c39f2b88d489
   "cell_type": "markdown",
   "metadata": {
    "deletable": false,
    "editable": false,
    "nbgrader": {
     "cell_type": "markdown",
     "checksum": "2fd024f6b0f64b0a40d4697f1844c0c0",
     "grade": false,
     "grade_id": "cell-7d6e44ab864416be",
     "locked": true,
     "schema_version": 3,
     "solution": false,
     "task": false
    }
   },
   "source": [
    "### 5.3 Error rate for constant classifier\n",
    "\n",
    "At last, determine the error rate for our toy problem for a classifier that knows nothing about $x$, or more specifically the randomly guesses $y$ or always picks for example $y=1$ ."
   ]
  },
  {
   "cell_type": "code",
   "execution_count": null,
   "metadata": {
    "deletable": false,
    "nbgrader": {
     "cell_type": "code",
     "checksum": "2ee91ad5c1596f6d6e5e02c3f39e26dd",
     "grade": false,
     "grade_id": "error_guess",
     "locked": false,
     "schema_version": 3,
     "solution": true,
     "task": false
    }
   },
   "outputs": [],
   "source": [
    "# Task 5: Constant Classifier error rate (1 point in total)\n",
    "\n",
<<<<<<< HEAD
    "error_guess = None # error rate not in % but [0,1]\n",
=======
    "error_guess = 1/2 # error rate not in % but [0,1]\n",
>>>>>>> 7c8123bb449b41490f3e1f629c47c39f2b88d489
    "# YOUR CODE HERE\n",
    "raise NotImplementedError()"
   ]
  },
  {
   "cell_type": "code",
   "execution_count": null,
   "metadata": {
    "deletable": false,
    "editable": false,
    "nbgrader": {
     "cell_type": "code",
     "checksum": "cde3b120f537be3e78ece0714b789c18",
     "grade": true,
     "grade_id": "error_guess_test",
     "locked": true,
     "points": 1,
     "schema_version": 3,
     "solution": false,
     "task": false
    }
   },
   "outputs": [],
   "source": [
    "# Hidden test below (1 Point)\n",
    "# The derivation is not graded, only the answer yields 1 Point\n",
    "assert isinstance(error_guess, float)"
   ]
  },
  {
<<<<<<< HEAD
   "attachments": {},
=======
>>>>>>> 7c8123bb449b41490f3e1f629c47c39f2b88d489
   "cell_type": "markdown",
   "metadata": {
    "deletable": false,
    "editable": false,
    "nbgrader": {
     "cell_type": "markdown",
     "checksum": "b321f9d362d1c5b883ae7c3c027d5bdf",
     "grade": false,
     "grade_id": "cell-a5b96c7089da209b",
     "locked": true,
     "schema_version": 3,
     "solution": false,
     "task": false
    }
   },
   "source": [
    "# 5.4 Monte-Carlo\n",
    "\n",
    "To test the above theoretically derived error rates, we can use a random number generator to produce data. Specifically, one first samples an instance label $Y$ according to the prior probabilities, and then uses the\n",
    "corresponding likelihood to sample the feature $X$. If no predefined random generator for the desired\n",
    "likelihood is available (as is the case here), uniformly distributed samples from a standard random\n",
    "number generator can be transformed to the desired distribution by means of \"inverse transform\n",
    "sampling\" (see https://en.wikipedia.org/wiki/Inverse_transform_sampling). You do not have to do this here (we give the solution below), however, you are encouraged to read about it."
   ]
  },
  {
   "cell_type": "code",
<<<<<<< HEAD
   "execution_count": null,
=======
   "execution_count": 13,
>>>>>>> 7c8123bb449b41490f3e1f629c47c39f2b88d489
   "metadata": {
    "deletable": false,
    "editable": false,
    "nbgrader": {
     "cell_type": "code",
     "checksum": "a97bbff12a6284cbd8a32069028429a0",
     "grade": false,
     "grade_id": "cell-efb5de8be5985bf0",
     "locked": true,
     "schema_version": 3,
     "solution": false,
     "task": false
    }
   },
<<<<<<< HEAD
   "outputs": [],
=======
   "outputs": [
    {
     "data": {
      "image/png": "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",
      "text/plain": [
       "<Figure size 1000x800 with 4 Axes>"
      ]
     },
     "metadata": {},
     "output_type": "display_data"
    }
   ],
>>>>>>> 7c8123bb449b41490f3e1f629c47c39f2b88d489
   "source": [
    "# Make data\n",
    "def create_data(N,seed=0):\n",
    "    np.random.seed(seed)\n",
    "    data = np.zeros((N, 2), dtype = float)\n",
    "    for i in range(N):\n",
    "        # sample y uniformly between 0 and 1\n",
    "        y = np.random.randint(2)\n",
    "        # use inverse transform sampling for x, given y\n",
    "        u = np.random.rand()\n",
    "        if 0 == y:\n",
    "            x = 1 - np.sqrt(1 - u)\n",
    "        else:\n",
    "            x = np.sqrt(u)\n",
    "        data[i,:] = (x,y)\n",
    "    return data\n",
    "\n",
    "# Generate Data\n",
    "test_data = create_data(100000)\n",
    "X_0 = test_data[test_data[:,1] == 0][:,0]\n",
    "X_1 = test_data[test_data[:,1] == 1][:,0]\n",
    "\n",
    "# show prior and likelihoods for both classes as bar chart and histograms\n",
    "fig = plt.figure(figsize = (10, 8))\n",
    "\n",
    "plt.subplot(221)\n",
    "plt.title(r'prior for class $Y$')\n",
    "plt.bar([0, 1], [X_0.size, X_1.size], width = 0.6)\n",
    "plt.xticks([0,1]); plt.xlim([-0.5, 1.5]); plt.yticks([0,25000,50000], ['0', '25k', '50k'])\n",
    "\n",
    "plt.subplot(222)\n",
    "plt.title(r'likelihood for $Y = 0$')\n",
    "plt.hist(X_0, 50, density = True, facecolor = 'green', alpha = 0.5)\n",
    "plt.ylabel(r'$p(X = x \\mid Y = 0)$')\n",
    "plt.plot([0,1], [2,0])\n",
    "\n",
    "plt.subplot(223)\n",
    "plt.title(r'likelihood for $Y = 1$')\n",
    "plt.hist(X_1, 50, density = True, facecolor = 'blue', alpha = 0.5)\n",
    "plt.ylabel(r'$p(X = x \\mid Y = 1)$')\n",
    "plt.plot([0,1], [0,2])\n",
    "\n",
    "plt.subplot(224)\n",
    "plt.title('Distribution of X and Y')\n",
    "plt.scatter(test_data[:, 0], test_data[:, 1])\n",
    "plt.ylabel('Y')\n",
    "\n",
    "fig.tight_layout(); plt.show()"
   ]
  },
  {
<<<<<<< HEAD
   "attachments": {},
=======
>>>>>>> 7c8123bb449b41490f3e1f629c47c39f2b88d489
   "cell_type": "markdown",
   "metadata": {
    "deletable": false,
    "editable": false,
    "nbgrader": {
     "cell_type": "markdown",
     "checksum": "58e6531b91bd2bea517103c5fa2f7efa",
     "grade": false,
     "grade_id": "cell-0a70bae0f653a686",
     "locked": true,
     "schema_version": 3,
     "solution": false,
     "task": false
    }
   },
   "source": [
    "### 5.5 Classifier Error rates\n",
    "\n",
    "Now determine \"experimentally\" the error rates for the following classifiers using the random number generation of `create_data()` for the toy problem:\n",
    "\n",
    "* A) Threshold classifier with threshold $x_t$ (for $x_t = 1/2$ this equals Naive Bayes classifier):\n",
    "\n",
    "$$ f_A (x) =  \\begin{cases}\n",
    "\t0 &\\text{if} \\;\\;x < x_t \\\\\n",
    "\t1 & \\text{if} \\;\\;x \\geqslant x_t\n",
    "\t\\end{cases}$$\n",
    "  \n",
    "\n",
    "* B) Constant classifier:\n",
    "\n",
    "$$ f_B(x) = 1$$\n",
    "\n",
    "* C) Random classifier:\n",
    "\n",
    "$$ f_C(x) =  \\begin{cases}\n",
    "\t0 & \\; \\text{with probability} 1/2\\\\\n",
    "\t1 &  \\;\\text{otherwise}\n",
    "\t\\end{cases}$$\n",
    "    \n",
    "* D) Nearest Neighbour classifier (k=1) for a training set $(x_i, y_i) \\in TS$ that is taken from the data above.\n",
    "\n",
    "$$ \\hat{y} = f_D(x;\\text{TS}) = y_{\\hat{i}}^*$$\n",
    "\n",
    "$$\\hat{i} = \\underset{i}{\\text{argmin}}\\; d(x_i,x)$$\n"
   ]
  },
  {
   "cell_type": "code",
<<<<<<< HEAD
   "execution_count": null,
=======
   "execution_count": 34,
>>>>>>> 7c8123bb449b41490f3e1f629c47c39f2b88d489
   "metadata": {
    "deletable": false,
    "nbgrader": {
     "cell_type": "code",
     "checksum": "d2e7ed25126378222be80bda60bb75df",
     "grade": false,
     "grade_id": "rule_A_B_C-1",
     "locked": false,
     "schema_version": 3,
     "solution": true,
     "task": false
    }
   },
   "outputs": [],
   "source": [
    "# Task 6: Simple classifiers (6 points in total)\n",
    "\n",
    "# implement the classifiers' functions below:\n",
    "def pred_A(x,xt):\n",
    "    \"\"\"Classifier A.\n",
    "    Args:\n",
    "        x (np.array): Array of x-values of shape (N,)\n",
    "        xt (float): Threshold in (0,1)\n",
    "    Returns:\n",
    "        label (np.array): Label for x of shape (N,)\n",
    "    \"\"\"\n",
<<<<<<< HEAD
    "    label = None # please update this in your solution\n",
    "    # YOUR CODE HERE\n",
    "    raise NotImplementedError()\n",
=======
    "    label = np.where(x < xt, 0, 1)# please update this in your solution\n",
    "    # YOUR CODE HERE\n",
    "    #raise NotImplementedError()\n",
>>>>>>> 7c8123bb449b41490f3e1f629c47c39f2b88d489
    "    return label\n",
    "\n",
    "def pred_B(x):\n",
    "    \"\"\"Classifier B.\n",
    "    Args:\n",
    "        x (np.array): Array of x-values of shape (N,)\n",
    "    Returns:\n",
    "        label (np.array): Label for x of shape (N,)\n",
    "    \"\"\"\n",
<<<<<<< HEAD
    "    label = None # please update this in your solution\n",
    "    # YOUR CODE HERE\n",
    "    raise NotImplementedError()\n",
=======
    "    label = np.ones(len(x)) # please update this in your solution\n",
    "    # YOUR CODE HERE\n",
    "    #raise NotImplementedError()\n",
>>>>>>> 7c8123bb449b41490f3e1f629c47c39f2b88d489
    "    return label\n",
    "\n",
    "def pred_C(x):\n",
    "    \"\"\"Classifier C.\n",
    "    Args:\n",
    "        x (np.array): Array of x-values of shape (N,)\n",
    "    Returns:\n",
    "        label (np.array): Label for x of shape (N,)\n",
    "    \"\"\"\n",
<<<<<<< HEAD
    "    label = None # please update this in your solution\n",
    "    # YOUR CODE HERE\n",
    "    raise NotImplementedError()\n",
=======
    "    label = np.array([np.random.randint(2) for i in range(len(x))]) # please update this in your solution\n",
    "    # YOUR CODE HERE\n",
    "    #raise NotImplementedError()\n",
>>>>>>> 7c8123bb449b41490f3e1f629c47c39f2b88d489
    "    return label\n",
    "\n",
    "# Determine the error rates\n",
    "def ErrorCount(y_pred, y_true):\n",
    "    CountError = np.array(np.rint(y_true), dtype=\"int\") != np.array(np.rint(y_pred),dtype=\"int\")\n",
    "    CountError = np.sum(CountError)\n",
    "    return CountError/len(y_true)"
   ]
  },
  {
   "cell_type": "code",
<<<<<<< HEAD
   "execution_count": null,
=======
   "execution_count": 35,
>>>>>>> 7c8123bb449b41490f3e1f629c47c39f2b88d489
   "metadata": {
    "deletable": false,
    "nbgrader": {
     "cell_type": "code",
     "checksum": "ad7558d54e51b6cc1d4f28691b5a86d1",
     "grade": false,
     "grade_id": "rule_A_B_C-2",
     "locked": false,
     "schema_version": 3,
     "solution": true,
     "task": false
    }
   },
   "outputs": [],
   "source": [
    "# Now determine the error rates with std deviation, i.e. create_data(N=100000) for 5 repetitions\n",
    "dat_mult = [create_data(N=100000,seed=i) for i in range(5)]\n",
    "\n",
    "# For A choose here xt = 0.5\n",
    "# error_A, error_B, error_C are mean values of prediction error rates on the 5 datasets in dat_mult.\n",
    "# error_A_std, error_B_std, error_C_std are corresponding standard deviations.\n",
    "# please implement the calculation in your solution\n",
    "# use the ErrorCount() function to determine the error rate\n",
<<<<<<< HEAD
    "error_A = None\n",
    "error_A_std = None\n",
    "error_B = None\n",
    "error_B_std = None\n",
    "error_C = None\n",
    "error_C_std = None\n",
    "\n",
    "# YOUR CODE HERE\n",
    "raise NotImplementedError()"
   ]
  },
  {
   "attachments": {},
=======
    "error_A = np.mean([ErrorCount(pred_A(data[:,0],0.5), data[:,1]) for data in dat_mult])\n",
    "error_A_std = np.std([ErrorCount(pred_A(data[:,0],0.5), data[:,1]) for data in dat_mult])\n",
    "error_B = np.mean([ErrorCount(pred_B(data[:,0]), data[:,1]) for data in dat_mult])\n",
    "error_B_std = np.std([ErrorCount(pred_B(data[:,0]), data[:,1]) for data in dat_mult])\n",
    "error_C = np.mean([ErrorCount(pred_C(data[:,0]), data[:,1]) for data in dat_mult])\n",
    "error_C_std = np.std([ErrorCount(pred_C(data[:,0]), data[:,1]) for data in dat_mult])\n",
    "\n",
    "# YOUR CODE HERE\n",
    "#raise NotImplementedError()"
   ]
  },
  {
>>>>>>> 7c8123bb449b41490f3e1f629c47c39f2b88d489
   "cell_type": "markdown",
   "metadata": {
    "deletable": false,
    "editable": false,
    "nbgrader": {
     "cell_type": "markdown",
     "checksum": "c6e9288517259b30b86cdde15c8078b0",
     "grade": false,
     "grade_id": "cell-b5f4a35ad26ed7ec",
     "locked": true,
     "schema_version": 3,
     "solution": false,
     "task": false
    }
   },
   "source": [
    "**Hint:** Compare your error rate of classifier A with your answer of Task 3: Bayes error rate, and rate of calssifier B/C with the answer of Task 5: Constant Classifier error rate. You should get an idea if your implementation is correct."
   ]
  },
  {
   "cell_type": "code",
<<<<<<< HEAD
   "execution_count": null,
=======
   "execution_count": 36,
>>>>>>> 7c8123bb449b41490f3e1f629c47c39f2b88d489
   "metadata": {
    "deletable": false,
    "editable": false,
    "nbgrader": {
     "cell_type": "code",
     "checksum": "b1c6cebf79df39422dbff0de421ccfd4",
     "grade": false,
     "grade_id": "cell-b221a5f97f07dd3a",
     "locked": true,
     "schema_version": 3,
     "solution": false,
     "task": false
    }
   },
<<<<<<< HEAD
   "outputs": [],
=======
   "outputs": [
    {
     "name": "stdout",
     "output_type": "stream",
     "text": [
      "Error Rate A: 0.251052 ± 0.0014075425393216385\n",
      "Error Rate B: 0.500178 ± 0.0005921959135286205\n",
      "Error Rate C: 0.500318 ± 0.0010153620044102345\n"
     ]
    }
   ],
>>>>>>> 7c8123bb449b41490f3e1f629c47c39f2b88d489
   "source": [
    "print(\"Error Rate A: {} ± {}\".format(error_A,error_A_std))\n",
    "print(\"Error Rate B: {} ± {}\".format(error_B,error_B_std))\n",
    "print(\"Error Rate C: {} ± {}\".format(error_C,error_C_std))"
   ]
  },
  {
   "cell_type": "code",
<<<<<<< HEAD
   "execution_count": null,
=======
   "execution_count": 37,
>>>>>>> 7c8123bb449b41490f3e1f629c47c39f2b88d489
   "metadata": {
    "deletable": false,
    "editable": false,
    "nbgrader": {
     "cell_type": "code",
     "checksum": "d8ff496f3db59c1f1fcadf4d3a7c7704",
     "grade": true,
     "grade_id": "rule_A_B_C_test_A",
     "locked": true,
     "points": 2,
     "schema_version": 3,
     "solution": false,
     "task": false
    }
   },
   "outputs": [],
   "source": [
    "# Hidden tests below (2 Points)\n",
    "# Try to assign a single value to the error rates\n",
    "# We will also check the function implementations\n",
    "assert error_A is not None"
   ]
  },
  {
   "cell_type": "code",
<<<<<<< HEAD
   "execution_count": null,
=======
   "execution_count": 38,
>>>>>>> 7c8123bb449b41490f3e1f629c47c39f2b88d489
   "metadata": {
    "deletable": false,
    "editable": false,
    "nbgrader": {
     "cell_type": "code",
     "checksum": "1230fa89d66501f2ec9d4210b54f4d9c",
     "grade": true,
     "grade_id": "rule_A_B_C_test_B",
     "locked": true,
     "points": 2,
     "schema_version": 3,
     "solution": false,
     "task": false
    }
   },
   "outputs": [],
   "source": [
    "# Hidden tests below (2 Points)\n",
    "assert error_B is not None"
   ]
  },
  {
   "cell_type": "code",
<<<<<<< HEAD
   "execution_count": null,
=======
   "execution_count": 39,
>>>>>>> 7c8123bb449b41490f3e1f629c47c39f2b88d489
   "metadata": {
    "deletable": false,
    "editable": false,
    "nbgrader": {
     "cell_type": "code",
     "checksum": "0f96a2d73ada4cc64a62410158d28261",
     "grade": true,
     "grade_id": "rule_A_B_C_test_C",
     "locked": true,
     "points": 2,
     "schema_version": 3,
     "solution": false,
     "task": false
    }
   },
   "outputs": [],
   "source": [
    "# Hidden tests below (2 Points)\n",
    "assert error_C is not None"
   ]
  },
  {
   "cell_type": "code",
   "execution_count": null,
   "metadata": {
    "deletable": false,
    "nbgrader": {
     "cell_type": "code",
     "checksum": "262835b262f0c3dcca04a0599c1f294b",
     "grade": false,
     "grade_id": "rule_D-1",
     "locked": false,
     "schema_version": 3,
     "solution": true,
     "task": false
    }
   },
   "outputs": [],
   "source": [
    "# Task 7: NN classifier (4 points in total)\n",
    "\n",
    "# Tipp: Use the distance function from exercise sheet 3! Or scipy cdist.\n",
    "\n",
    "def nn_classifier(x_test, TS):\n",
    "    \"\"\"Nearest neighbor classifier for arbitrary training-set size.\n",
    "    Use vectorization (ideally).\n",
    "    \n",
    "    Args:\n",
    "        x_test (np.array): data to predict of shape (N,)\n",
    "        TS (np.array): Training dataset of shape (N,2) with (x,y) in the last dimension.\n",
    "    \n",
    "    Returns:\n",
    "        y_pred (np.array): Prediction of the NN classifier of shape (N,) with dtype=np.int\n",
    "    \"\"\"  \n",
    "    y_pred = None # please update this in your solution\n",
    "    # YOUR CODE HERE\n",
    "    raise NotImplementedError()\n",
    "    return y_pred"
   ]
  },
  {
   "cell_type": "code",
   "execution_count": null,
   "metadata": {
    "deletable": false,
    "nbgrader": {
     "cell_type": "code",
     "checksum": "19d7037df77096b9fcc9f87aa03a3a10",
     "grade": false,
     "grade_id": "rule_D-2",
     "locked": false,
     "schema_version": 3,
     "solution": true,
     "task": false
    }
   },
   "outputs": [],
   "source": [
    "dat_mult = [create_data(N=100000,seed=i) for i in range(5)] # For training\n",
    "test_mult = [create_data(N=100,seed=i+100) for i in range(5)] # For testing\n",
    "\n",
    "# please implementation the calculation in your solution\n",
    "# use the ErrorCount() function to determine the error rate\n",
    "# error_NN is the mean value of prediction error rates on the 5 datasets in test_mult.\n",
    "# error_NN_std is the corresponding standard deviation.\n",
    "error_NN = None\n",
    "error_NN_std = None\n",
    "\n",
    "# YOUR CODE HERE\n",
    "raise NotImplementedError()"
   ]
  },
  {
<<<<<<< HEAD
   "attachments": {},
=======
>>>>>>> 7c8123bb449b41490f3e1f629c47c39f2b88d489
   "cell_type": "markdown",
   "metadata": {
    "deletable": false,
    "editable": false,
    "nbgrader": {
     "cell_type": "markdown",
     "checksum": "c517ebb8ccdd3b8fae562f815a64cdd9",
     "grade": false,
     "grade_id": "cell-d39732ddaea24dd4",
     "locked": true,
     "schema_version": 3,
     "solution": false,
     "task": false
    }
   },
   "source": [
    "**Hint:** Compare your error rate of NN classifier with your answer of Task 4: Nearest Neighbour error rate. You should get an idea if your implementation is correct."
   ]
  },
  {
   "cell_type": "code",
   "execution_count": null,
   "metadata": {
    "deletable": false,
    "editable": false,
    "nbgrader": {
     "cell_type": "code",
     "checksum": "0f76550be2c451852292c21d9eefbfd3",
     "grade": false,
     "grade_id": "cell-52f1aef336bb5f70",
     "locked": true,
     "schema_version": 3,
     "solution": false,
     "task": false
    }
   },
   "outputs": [],
   "source": [
    "print(\"Error Rate D: {} ± {}\".format(error_NN,error_NN_std))"
   ]
  },
  {
   "cell_type": "code",
   "execution_count": null,
   "metadata": {
    "deletable": false,
    "editable": false,
    "nbgrader": {
     "cell_type": "code",
     "checksum": "d9bd9e2ff407ac028b7d3ec5c10bee86",
     "grade": true,
     "grade_id": "rule_D_test",
     "locked": true,
     "points": 2,
     "schema_version": 3,
     "solution": false,
     "task": false
    }
   },
   "outputs": [],
   "source": [
    "# (2 Points)\n",
    "assert error_NN is not None\n",
    "assert error_NN_std is not None\n",
    "# Hidden test below\n",
    "# will check the value of error_NN and error_NN_std"
   ]
  },
  {
   "cell_type": "code",
   "execution_count": null,
   "metadata": {
    "deletable": false,
    "editable": false,
    "nbgrader": {
     "cell_type": "code",
     "checksum": "3127b167b7c6164e9e983f9288bfa88d",
     "grade": true,
     "grade_id": "rule_D_test_NN",
     "locked": true,
     "points": 2,
     "schema_version": 3,
     "solution": false,
     "task": false
    }
   },
   "outputs": [],
   "source": [
    "# (2 Points)\n",
    "assert nn_classifier(np.array([[0.0]]), np.array([[0.0,0.0]])) is not None\n",
    "\n",
    "# Hidden test below\n",
    "# We will also test the function nn_classifier(x_test, TS)"
   ]
  },
  {
<<<<<<< HEAD
   "attachments": {},
=======
>>>>>>> 7c8123bb449b41490f3e1f629c47c39f2b88d489
   "cell_type": "markdown",
   "metadata": {
    "deletable": false,
    "editable": false,
    "nbgrader": {
     "cell_type": "markdown",
     "checksum": "75f2ddd1b2de0e1a12643a392f4de291",
     "grade": false,
     "grade_id": "cell-ddb431ec02132cd9",
     "locked": true,
     "schema_version": 3,
     "solution": false,
     "task": false
    }
   },
   "source": [
    "Now, let's evaluate the error rate as a function of the dataset size and plot it.\n",
    "The datasets we are working on here are included in `dat_grid`. The size of the datasets are $50$, $100$, $1000$, $10000$ and $100000$, with each size contains $5$ datasets randomly generated by `create_data()`."
   ]
  },
  {
   "cell_type": "code",
   "execution_count": null,
   "metadata": {},
   "outputs": [],
   "source": [
    "dat_grid = [[create_data(N=n,seed=i) for i in range(5)] for n in [50,100,1000,10000,100000]]"
   ]
  },
  {
<<<<<<< HEAD
   "attachments": {},
=======
>>>>>>> 7c8123bb449b41490f3e1f629c47c39f2b88d489
   "cell_type": "markdown",
   "metadata": {
    "deletable": false,
    "editable": false,
    "nbgrader": {
     "cell_type": "markdown",
     "checksum": "27c3b7b6193a83db7736b0eaa3bfd473",
     "grade": false,
     "grade_id": "cell-889dd4f8faa44830",
     "locked": true,
     "schema_version": 3,
     "solution": false,
     "task": false
    }
   },
   "source": [
    "Please use `pred_A()`, `pred_B()`, `pred_C()` that you have already implemented earlier to classify the datasets and calculate means/standard deviations of the errors."
   ]
  },
  {
   "cell_type": "code",
   "execution_count": null,
   "metadata": {
    "deletable": false,
    "nbgrader": {
     "cell_type": "code",
     "checksum": "4b48d2395d0b71e9822c6fe386dc4e85",
     "grade": false,
     "grade_id": "error_vs_size_abc",
     "locked": false,
     "schema_version": 3,
     "solution": true,
     "task": false
    }
   },
   "outputs": [],
   "source": [
    "# Task 8: Different Dataset Size (3 points in total)\n",
    "\n",
    "# Evaluate the error rate for the 3 rules as above with different sizes in dat_grid.\n",
    "# error_grid_a, error_grid_b, error_grid_c are mean values of prediction error rates.\n",
    "# error_grid_a_std, error_grid_b_std, error_grid_c_std are corresponding standard deviations.\n",
    "# Please finish the calculation with the ErrorCount(), pred_A(), pred_B(), and pred_C() functions in your solution.\n",
    "error_grid_a = None\n",
    "error_grid_a_std = None\n",
    "error_grid_b = None\n",
    "error_grid_b_std = None\n",
    "error_grid_c = None\n",
    "error_grid_c_std = None\n",
    "\n",
    "# YOUR CODE HERE\n",
    "raise NotImplementedError()"
   ]
  },
  {
   "cell_type": "code",
   "execution_count": null,
   "metadata": {
    "deletable": false,
    "editable": false,
    "nbgrader": {
     "cell_type": "code",
     "checksum": "be7004c81ccedca790ae7e3be5615705",
     "grade": true,
     "grade_id": "error_vs_size_abc_test",
     "locked": true,
     "points": 2,
     "schema_version": 3,
     "solution": false,
     "task": false
    }
   },
   "outputs": [],
   "source": [
    "# (2 points)\n",
    "assert len(error_grid_a) == 5 and len(error_grid_b_std) == 5\n",
    "\n",
    "# Hidden tests below\n",
    "# Values of means/standard deviations of errors will be tested"
   ]
  },
  {
<<<<<<< HEAD
   "attachments": {},
=======
>>>>>>> 7c8123bb449b41490f3e1f629c47c39f2b88d489
   "cell_type": "markdown",
   "metadata": {
    "deletable": false,
    "editable": false,
    "nbgrader": {
     "cell_type": "markdown",
     "checksum": "9f27d5445c8b577d6b36e8a202db4e5e",
     "grade": false,
     "grade_id": "cell-a91c729e1d0f8766",
     "locked": true,
     "schema_version": 3,
     "solution": false,
     "task": false
    }
   },
   "source": [
    "For Nearest Neighbour classifier, we will use `dat_grid` as training sets and generate test sets as `test_grid_nn`. The size of the test sets are $5$, $10$, $100$, $100$, $1000$ with each size consists of $5$ datasets."
   ]
  },
  {
   "cell_type": "code",
   "execution_count": null,
   "metadata": {
    "deletable": false,
    "nbgrader": {
     "cell_type": "code",
     "checksum": "30d658e63ecab47c13c24b71fbf0a6a4",
     "grade": false,
     "grade_id": "error_vs_size_d",
     "locked": false,
     "schema_version": 3,
     "solution": true,
     "task": false
    }
   },
   "outputs": [],
   "source": [
    "# for nearest neighbour simply pick the separate test_grid_nn\n",
    "test_grid_nn = [[create_data(N=n,seed=i+100) for i in range(5)] for n in [5,10,100,100,1000]]\n",
    "\n",
    "# Evaluate the error rate for the Nearest Neighbour classifier trained with dat_grid and tested on test_grid_nn.\n",
    "# error_grid_d contains mean values of prediction error rates.\n",
    "# error_grid_d_std contains corresponding standard deviations.\n",
    "# Please finish the calculation with the ErrorCount() and nn_classifier() functions in your solution.\n",
    "error_grid_d = None\n",
    "error_grid_d_std = None\n",
    "\n",
    "# YOUR CODE HERE\n",
    "raise NotImplementedError()"
   ]
  },
  {
   "cell_type": "code",
   "execution_count": null,
   "metadata": {
    "deletable": false,
    "editable": false,
    "nbgrader": {
     "cell_type": "code",
     "checksum": "4e0c21f3ba790657bd21ab0831bf9bd8",
     "grade": true,
     "grade_id": "error_vs_size_d_test",
     "locked": true,
     "points": 1,
     "schema_version": 3,
     "solution": false,
     "task": false
    }
   },
   "outputs": [],
   "source": [
    "# (1 point)\n",
    "assert len(error_grid_d) == 5 and len(error_grid_d_std) == 5\n",
    "\n",
    "# Hidden tests below\n",
    "# Values of means/standard deviations of errors will be tested"
   ]
  },
  {
   "cell_type": "code",
<<<<<<< HEAD
   "execution_count": null,
   "metadata": {},
   "outputs": [],
=======
   "execution_count": 17,
   "metadata": {},
   "outputs": [
    {
     "ename": "NameError",
     "evalue": "name 'error_grid_a' is not defined",
     "output_type": "error",
     "traceback": [
      "\u001b[0;31m---------------------------------------------------------------------------\u001b[0m",
      "\u001b[0;31mNameError\u001b[0m                                 Traceback (most recent call last)",
      "Cell \u001b[0;32mIn[17], line 6\u001b[0m\n\u001b[1;32m      4\u001b[0m \u001b[38;5;66;03m# plt.errorbar\u001b[39;00m\n\u001b[1;32m      5\u001b[0m sampling \u001b[38;5;241m=\u001b[39m np\u001b[38;5;241m.\u001b[39marray([n \u001b[38;5;28;01mfor\u001b[39;00m n \u001b[38;5;129;01min\u001b[39;00m [\u001b[38;5;241m50\u001b[39m,\u001b[38;5;241m100\u001b[39m,\u001b[38;5;241m1000\u001b[39m,\u001b[38;5;241m10000\u001b[39m,\u001b[38;5;241m100000\u001b[39m]])\n\u001b[0;32m----> 6\u001b[0m plt\u001b[38;5;241m.\u001b[39merrorbar(sampling,np\u001b[38;5;241m.\u001b[39marray(\u001b[43merror_grid_a\u001b[49m), yerr\u001b[38;5;241m=\u001b[39mnp\u001b[38;5;241m.\u001b[39marray(error_grid_a_std),label\u001b[38;5;241m=\u001b[39m\u001b[38;5;124m\"\u001b[39m\u001b[38;5;124mA\u001b[39m\u001b[38;5;124m\"\u001b[39m)\n\u001b[1;32m      7\u001b[0m plt\u001b[38;5;241m.\u001b[39merrorbar(sampling,np\u001b[38;5;241m.\u001b[39marray(error_grid_b), yerr\u001b[38;5;241m=\u001b[39mnp\u001b[38;5;241m.\u001b[39marray(error_grid_b_std),label\u001b[38;5;241m=\u001b[39m\u001b[38;5;124m\"\u001b[39m\u001b[38;5;124mB\u001b[39m\u001b[38;5;124m\"\u001b[39m)\n\u001b[1;32m      8\u001b[0m plt\u001b[38;5;241m.\u001b[39merrorbar(sampling,np\u001b[38;5;241m.\u001b[39marray(error_grid_c), yerr\u001b[38;5;241m=\u001b[39mnp\u001b[38;5;241m.\u001b[39marray(error_grid_c_std),label\u001b[38;5;241m=\u001b[39m\u001b[38;5;124m\"\u001b[39m\u001b[38;5;124mC\u001b[39m\u001b[38;5;124m\"\u001b[39m)\n",
      "\u001b[0;31mNameError\u001b[0m: name 'error_grid_a' is not defined"
     ]
    },
    {
     "data": {
      "image/png": "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",
      "text/plain": [
       "<Figure size 640x480 with 1 Axes>"
      ]
     },
     "metadata": {},
     "output_type": "display_data"
    }
   ],
>>>>>>> 7c8123bb449b41490f3e1f629c47c39f2b88d489
   "source": [
    "#Plot results\n",
    "plt.figure()\n",
    "plt.title(r'Error rate for rule A, B, C, D')\n",
    "# plt.errorbar\n",
    "sampling = np.array([n for n in [50,100,1000,10000,100000]])\n",
    "plt.errorbar(sampling,np.array(error_grid_a), yerr=np.array(error_grid_a_std),label=\"A\")\n",
    "plt.errorbar(sampling,np.array(error_grid_b), yerr=np.array(error_grid_b_std),label=\"B\")\n",
    "plt.errorbar(sampling,np.array(error_grid_c), yerr=np.array(error_grid_c_std),label=\"C\")\n",
    "plt.errorbar(sampling,np.array(error_grid_d), yerr=np.array(error_grid_d_std),label=\"D\")\n",
    "plt.ylabel('error rate')\n",
    "plt.legend(loc=\"upper right\")\n",
    "plt.xscale('log')"
   ]
  },
  {
<<<<<<< HEAD
   "attachments": {},
=======
>>>>>>> 7c8123bb449b41490f3e1f629c47c39f2b88d489
   "cell_type": "markdown",
   "metadata": {
    "deletable": false,
    "editable": false,
    "nbgrader": {
     "cell_type": "markdown",
     "checksum": "73978fad95a68d91934fedda2e8d402e",
     "grade": false,
     "grade_id": "cell-fbba3c389a6f05b4",
     "locked": true,
     "schema_version": 3,
     "solution": false,
     "task": false
    }
   },
   "source": [
    "Congragulation! You have finished this exercise. I hope it is helpful to understand lecture content. Don't forget to participate the exercise survey and thanks again for your work!"
   ]
<<<<<<< HEAD
=======
  },
  {
   "cell_type": "code",
   "execution_count": 18,
   "metadata": {},
   "outputs": [
    {
     "ename": "ValueError",
     "evalue": "The truth value of an array with more than one element is ambiguous. Use a.any() or a.all()",
     "output_type": "error",
     "traceback": [
      "\u001b[0;31m---------------------------------------------------------------------------\u001b[0m",
      "\u001b[0;31mValueError\u001b[0m                                Traceback (most recent call last)",
      "Cell \u001b[0;32mIn[18], line 2\u001b[0m\n\u001b[1;32m      1\u001b[0m y \u001b[38;5;241m=\u001b[39m np\u001b[38;5;241m.\u001b[39marray([\u001b[38;5;241m1\u001b[39m,\u001b[38;5;241m2\u001b[39m,\u001b[38;5;241m3\u001b[39m,\u001b[38;5;241m4\u001b[39m,\u001b[38;5;241m5\u001b[39m,\u001b[38;5;241m6\u001b[39m,\u001b[38;5;241m7\u001b[39m])\n\u001b[0;32m----> 2\u001b[0m x \u001b[38;5;241m=\u001b[39m \u001b[38;5;241m1\u001b[39m \u001b[38;5;28;01mif\u001b[39;00m y \u001b[38;5;241m<\u001b[39m \u001b[38;5;241m4\u001b[39m \u001b[38;5;28;01melse\u001b[39;00m \u001b[38;5;241m0\u001b[39m\n",
      "\u001b[0;31mValueError\u001b[0m: The truth value of an array with more than one element is ambiguous. Use a.any() or a.all()"
     ]
    }
   ],
   "source": [
    "y = np.array([1,2,3,4,5,6,7])\n",
    "x = 1 if y < 4 else 0"
   ]
  },
  {
   "cell_type": "code",
   "execution_count": null,
   "metadata": {},
   "outputs": [],
   "source": []
>>>>>>> 7c8123bb449b41490f3e1f629c47c39f2b88d489
  }
 ],
 "metadata": {
  "kernelspec": {
   "display_name": "Python 3 (ipykernel)",
   "language": "python",
   "name": "python3"
  },
  "language_info": {
   "codemirror_mode": {
    "name": "ipython",
    "version": 3
   },
   "file_extension": ".py",
   "mimetype": "text/x-python",
   "name": "python",
   "nbconvert_exporter": "python",
   "pygments_lexer": "ipython3",
   "version": "3.9.16"
  }
 },
 "nbformat": 4,
 "nbformat_minor": 4
}
